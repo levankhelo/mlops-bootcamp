{
 "cells": [
  {
   "cell_type": "code",
   "execution_count": null,
   "metadata": {
    "metadata": {}
   },
   "outputs": [],
   "source": [
    "import pandas as pd\n",
    "\n",
    "debug = True\n",
    "\n",
    "# Read the parquet file\n",
    "df = pd.read_parquet('yellow_tripdata_2023-01.parquet')\n",
    "\n",
    "# Display the dataframe\n",
    "if debug:\n",
    "  df.head()"
   ]
  },
  {
   "cell_type": "code",
   "execution_count": null,
   "id": "20188d8d",
   "metadata": {
    "metadata": {}
   },
   "outputs": [
    {
     "name": "stdout",
     "output_type": "stream",
     "text": [
      "Q1: Downloading the data. Columns: 19\n"
     ]
    }
   ],
   "source": [
    "num_columns = len(df.columns)\n",
    "print(f\"Q1: Downloading the data. Columns: {num_columns}\")"
   ]
  },
  {
   "cell_type": "code",
   "execution_count": null,
   "id": "ff3a277e",
   "metadata": {
    "metadata": {}
   },
   "outputs": [],
   "source": [
    "# Compute the duration variable\n",
    "df['duration'] = df['tpep_dropoff_datetime'] - df['tpep_pickup_datetime']\n",
    "\n",
    "# Display the updated dataframe\n",
    "if debug:\n",
    "  df.head()"
   ]
  },
  {
   "cell_type": "code",
   "execution_count": null,
   "id": "84f45bc1",
   "metadata": {
    "metadata": {}
   },
   "outputs": [
    {
     "name": "stdout",
     "output_type": "stream",
     "text": [
      "Q2: computing duration. Standard deviation: 0 days 00:42:35.661074\n"
     ]
    }
   ],
   "source": [
    "duration_std = df['duration'].std()\n",
    "print(f\"Q2: computing duration. Standard deviation: {duration_std}\")"
   ]
  },
  {
   "cell_type": "code",
   "execution_count": null,
   "id": "fe25d8c8",
   "metadata": {
    "metadata": {}
   },
   "outputs": [
    {
     "name": "stdout",
     "output_type": "stream",
     "text": [
      "Q3: Dropping outliers. fraction left after filter: 98% - actaul value: 0.9812202822125979\n"
     ]
    }
   ],
   "source": [
    "# Filter the dataframe to keep only records with duration between 1 and 60 minutes (inclusive)\n",
    "filtered_df = df[(df['duration'] >= pd.Timedelta(minutes=1)) & (df['duration'] <= pd.Timedelta(minutes=60))]\n",
    "\n",
    "# Calculate the fraction of records left\n",
    "fraction_left = len(filtered_df) / len(df)\n",
    "print(f\"Q3: Dropping outliers. fraction left after filter: {fraction_left*100:.0f}% - actaul value: {fraction_left}\")"
   ]
  },
  {
   "cell_type": "code",
   "execution_count": null,
   "id": "57d6c1cf",
   "metadata": {
    "metadata": {}
   },
   "outputs": [],
   "source": [
    "# Turn the dataframe into a list of dictionaries\n",
    "location_dict = [{'PULocationID': str(row['PULocationID']), 'DOLocationID': str(row['DOLocationID'])} for _, row in df.iterrows()]\n",
    "location_dict[:5]"
   ]
  },
  {
   "cell_type": "code",
   "execution_count": null,
   "id": "da019ddb",
   "metadata": {},
   "outputs": [],
   "source": [
    "# Fit a dictionary vectorizer\n",
    "vectorizer = DictVectorizer()\n",
    "vectorizer.fit(location_dict)\n",
    "\n",
    "# Get a feature matrix from the vectorizer\n",
    "feature_matrix = vectorizer.transform(location_dict)\n",
    "\n",
    "# Calculate the number of columns in the feature matrix\n",
    "num_columns_feature_matrix = feature_matrix.shape[1]\n",
    "println(\"Number of columns in the feature matrix: \", num_columns_feature_matrix)\n"
   ]
  }
 ],
 "metadata": {
  "kernelspec": {
   "display_name": "Python 3 (ipykernel)",
   "language": "python",
   "name": "python3"
  },
  "language_info": {
   "codemirror_mode": {
    "name": "ipython",
    "version": 3
   },
   "file_extension": ".py",
   "mimetype": "text/x-python",
   "name": "python",
   "nbconvert_exporter": "python",
   "pygments_lexer": "ipython3",
   "version": "3.12.4"
  }
 },
 "nbformat": 4,
 "nbformat_minor": 5
}
