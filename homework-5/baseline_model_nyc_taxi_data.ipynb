{
 "cells": [
  {
   "cell_type": "markdown",
   "id": "7bf05e7e",
   "metadata": {},
   "source": [
    "# Baseline model for batch monitoring example"
   ]
  },
  {
   "cell_type": "code",
   "execution_count": 458,
   "id": "7320039b",
   "metadata": {
    "metadata": {}
   },
   "outputs": [],
   "source": [
    "import requests\n",
    "import datetime\n",
    "import pandas as pd\n",
    "\n",
    "from evidently import ColumnMapping\n",
    "from evidently.report import Report\n",
    "from evidently.metrics import ColumnDriftMetric, DatasetDriftMetric, DatasetMissingValuesMetric\n",
    "\n",
    "from joblib import load, dump\n",
    "from tqdm import tqdm\n",
    "\n",
    "from sklearn.linear_model import LinearRegression\n",
    "from sklearn.metrics import mean_absolute_error, mean_absolute_percentage_error"
   ]
  },
  {
   "cell_type": "code",
   "execution_count": null,
   "id": "ebcd8eb5",
   "metadata": {
    "metadata": {}
   },
   "outputs": [],
   "source": [
    "import os\n",
    "\n",
    "files = [('green_tripdata_2024-03.parquet', './data'),('green_tripdata_2022-02.parquet', './data'), ('green_tripdata_2022-01.parquet', './data')]\n",
    "\n",
    "print(\"Download files:\")\n",
    "for file, path in files:\n",
    "    save_path = f\"{path}/{file}\"\n",
    "    if os.path.exists(save_path):\n",
    "        print(f\"{file} already exists\")\n",
    "    else:\n",
    "        url = f\"https://d37ci6vzurychx.cloudfront.net/trip-data/{file}\"\n",
    "        resp = requests.get(url, stream=True)\n",
    "        with open(save_path, \"wb\") as handle:\n",
    "            for data in tqdm(resp.iter_content(),\n",
    "                             desc=f\"{file}\",\n",
    "                             postfix=f\"save to {save_path}\",\n",
    "                             total=int(resp.headers[\"Content-Length\"])):\n",
    "                handle.write(data)"
   ]
  },
  {
   "cell_type": "code",
   "execution_count": 460,
   "id": "6735ae38",
   "metadata": {
    "metadata": {}
   },
   "outputs": [],
   "source": [
    "current_data = pd.read_parquet('data/green_tripdata_2024-03.parquet')"
   ]
  },
  {
   "cell_type": "code",
   "execution_count": null,
   "id": "29779686",
   "metadata": {
    "metadata": {}
   },
   "outputs": [],
   "source": [
    "current_data.describe()"
   ]
  },
  {
   "cell_type": "code",
   "execution_count": null,
   "id": "b44c37b2",
   "metadata": {
    "metadata": {}
   },
   "outputs": [],
   "source": [
    "current_data.shape"
   ]
  },
  {
   "cell_type": "code",
   "execution_count": 463,
   "id": "f2934d16",
   "metadata": {
    "metadata": {}
   },
   "outputs": [],
   "source": [
    "# create target\n",
    "current_data[\"duration_min\"] = current_data.lpep_dropoff_datetime - current_data.lpep_pickup_datetime\n",
    "current_data.duration_min = current_data.duration_min.apply(lambda td : float(td.total_seconds())/60)"
   ]
  },
  {
   "cell_type": "code",
   "execution_count": 464,
   "id": "63210877",
   "metadata": {
    "metadata": {}
   },
   "outputs": [],
   "source": [
    "# filter out outliers\n",
    "current_data = current_data[(current_data.duration_min >= 0) & (current_data.duration_min <= 60)]\n",
    "current_data = current_data[(current_data.passenger_count > 0) & (current_data.passenger_count <= 8)]"
   ]
  },
  {
   "cell_type": "code",
   "execution_count": null,
   "id": "56b31a22",
   "metadata": {
    "metadata": {}
   },
   "outputs": [],
   "source": [
    "current_data.duration_min.hist()"
   ]
  },
  {
   "cell_type": "code",
   "execution_count": 466,
   "id": "e40dff98",
   "metadata": {
    "metadata": {}
   },
   "outputs": [],
   "source": [
    "# data labeling\n",
    "target = \"duration_min\"\n",
    "num_features = [\"passenger_count\", \"trip_distance\", \"fare_amount\", \"total_amount\"]\n",
    "cat_features = [\"PULocationID\", \"DOLocationID\"]"
   ]
  },
  {
   "cell_type": "code",
   "execution_count": null,
   "id": "bc0c22a5",
   "metadata": {
    "metadata": {}
   },
   "outputs": [],
   "source": [
    "current_data.shape"
   ]
  },
  {
   "cell_type": "code",
   "execution_count": 468,
   "id": "05a265a0",
   "metadata": {
    "metadata": {}
   },
   "outputs": [],
   "source": [
    "train_data = current_data[:30000]\n",
    "val_data = current_data[30000:]"
   ]
  },
  {
   "cell_type": "code",
   "execution_count": 469,
   "id": "e9fb4fc9",
   "metadata": {
    "metadata": {}
   },
   "outputs": [],
   "source": [
    "model = LinearRegression()"
   ]
  },
  {
   "cell_type": "code",
   "execution_count": null,
   "id": "0baed5ae",
   "metadata": {
    "metadata": {}
   },
   "outputs": [],
   "source": [
    "model.fit(train_data[num_features + cat_features], train_data[target])"
   ]
  },
  {
   "cell_type": "code",
   "execution_count": 471,
   "id": "c1fa3c38",
   "metadata": {
    "metadata": {}
   },
   "outputs": [],
   "source": [
    "train_preds = model.predict(train_data[num_features + cat_features])\n",
    "train_data['prediction'] = train_preds"
   ]
  },
  {
   "cell_type": "code",
   "execution_count": 472,
   "id": "84293b52",
   "metadata": {
    "metadata": {}
   },
   "outputs": [],
   "source": [
    "val_preds = model.predict(val_data[num_features + cat_features])\n",
    "val_data['prediction'] = val_preds"
   ]
  },
  {
   "cell_type": "code",
   "execution_count": null,
   "id": "0af9d288",
   "metadata": {
    "metadata": {}
   },
   "outputs": [],
   "source": [
    "print(mean_absolute_error(train_data.duration_min, train_data.prediction))\n",
    "print(mean_absolute_error(val_data.duration_min, val_data.prediction))"
   ]
  },
  {
   "cell_type": "markdown",
   "id": "fc441899",
   "metadata": {},
   "source": [
    "# Dump model and reference data"
   ]
  },
  {
   "cell_type": "code",
   "execution_count": 474,
   "id": "dfb4068b",
   "metadata": {
    "metadata": {}
   },
   "outputs": [],
   "source": [
    "with open('models/lin_reg.bin', 'wb') as f_out:\n",
    "    dump(model, f_out)"
   ]
  },
  {
   "cell_type": "code",
   "execution_count": 475,
   "id": "a1aa065f",
   "metadata": {
    "metadata": {}
   },
   "outputs": [],
   "source": [
    "val_data.to_parquet('data/reference.parquet')"
   ]
  },
  {
   "cell_type": "markdown",
   "id": "a195b327",
   "metadata": {},
   "source": [
    "# Evidently Report"
   ]
  },
  {
   "cell_type": "code",
   "execution_count": 476,
   "id": "56403137",
   "metadata": {
    "metadata": {}
   },
   "outputs": [],
   "source": [
    "column_mapping = ColumnMapping(\n",
    "    target=None,\n",
    "    prediction='prediction',\n",
    "    numerical_features=num_features,\n",
    "    categorical_features=cat_features\n",
    ")"
   ]
  },
  {
   "cell_type": "code",
   "execution_count": 477,
   "id": "36bf31c2",
   "metadata": {
    "metadata": {}
   },
   "outputs": [],
   "source": [
    "report = Report(metrics=[\n",
    "    ColumnDriftMetric(column_name='prediction'),\n",
    "    DatasetDriftMetric(),\n",
    "    DatasetMissingValuesMetric()\n",
    "]\n",
    ")"
   ]
  },
  {
   "cell_type": "code",
   "execution_count": 478,
   "id": "996eb8b8",
   "metadata": {
    "metadata": {}
   },
   "outputs": [],
   "source": [
    "report.run(reference_data=train_data, current_data=val_data, column_mapping=column_mapping)"
   ]
  },
  {
   "cell_type": "code",
   "execution_count": null,
   "id": "3e7aaea2",
   "metadata": {
    "metadata": {}
   },
   "outputs": [],
   "source": [
    "report.show(mode='inline')"
   ]
  },
  {
   "cell_type": "code",
   "execution_count": 480,
   "id": "397adec5",
   "metadata": {
    "metadata": {}
   },
   "outputs": [],
   "source": [
    "result = report.as_dict()"
   ]
  },
  {
   "cell_type": "code",
   "execution_count": null,
   "id": "84c99580",
   "metadata": {
    "metadata": {},
    "scrolled": true
   },
   "outputs": [],
   "source": [
    "result"
   ]
  },
  {
   "cell_type": "code",
   "execution_count": null,
   "id": "7fa07745",
   "metadata": {
    "metadata": {}
   },
   "outputs": [],
   "source": [
    "#prediction drift\n",
    "result['metrics'][0]['result']['drift_score']"
   ]
  },
  {
   "cell_type": "code",
   "execution_count": null,
   "id": "e1c8f836",
   "metadata": {
    "metadata": {}
   },
   "outputs": [],
   "source": [
    "#number of drifted columns\n",
    "result['metrics'][1]['result']['number_of_drifted_columns']"
   ]
  },
  {
   "cell_type": "code",
   "execution_count": null,
   "id": "71c07269",
   "metadata": {
    "metadata": {}
   },
   "outputs": [],
   "source": [
    "#share of missing values\n",
    "result['metrics'][2]['result']['current']['share_of_missing_values']"
   ]
  },
  {
   "cell_type": "markdown",
   "id": "b1806fc6-1810-4f2f-9a44-b692395e8d2a",
   "metadata": {},
   "source": [
    "# Evidently Dashboard"
   ]
  },
  {
   "cell_type": "code",
   "execution_count": 485,
   "id": "a9329510-f377-437b-ba12-e8dc26b3d7b0",
   "metadata": {
    "metadata": {}
   },
   "outputs": [],
   "source": [
    "from evidently.metric_preset import DataDriftPreset, DataQualityPreset\n",
    "\n",
    "from evidently.ui.workspace import Workspace\n",
    "from evidently.ui.dashboards import DashboardPanelCounter, DashboardPanelPlot, CounterAgg, PanelValue, PlotType, ReportFilter\n",
    "from evidently.renderers.html_widgets import WidgetSize"
   ]
  },
  {
   "cell_type": "code",
   "execution_count": 486,
   "id": "a5465175-02bf-44d5-82ff-ef4baa1ac4e2",
   "metadata": {
    "metadata": {}
   },
   "outputs": [],
   "source": [
    "ws = Workspace(\"workspace\")"
   ]
  },
  {
   "cell_type": "code",
   "execution_count": null,
   "id": "06718d7e-c81f-4b36-a6fa-5b446c6c5f92",
   "metadata": {
    "metadata": {}
   },
   "outputs": [],
   "source": [
    "project = ws.create_project(\"NYC Taxi Data Quality Project\")\n",
    "project.description = \"My project descriotion\"\n",
    "project.save()"
   ]
  },
  {
   "cell_type": "code",
   "execution_count": null,
   "id": "25d6504c",
   "metadata": {
    "metadata": {}
   },
   "outputs": [],
   "source": [
    "import pandas as pd\n",
    "\n",
    "# Assuming 'val_data' is the validation data\n",
    "val_data['lpep_pickup_datetime'] = pd.to_datetime(val_data['lpep_pickup_datetime'])\n",
    "\n",
    "# Filter the data for March 2024\n",
    "march_2024_data = val_data.loc[val_data['lpep_pickup_datetime'].between('2024-03-01', '2024-03-31')]\n",
    "\n",
    "# Calculate the median (quantile = 0.5) for fare_amount in March 2024\n",
    "median_fare_march_2024 = march_2024_data['fare_amount'].quantile(0.5)\n",
    "\n",
    "print(f\"The median (quantile = 0.5) for fare_amount in March 2024 is: {median_fare_march_2024}\")\n"
   ]
  },
  {
   "cell_type": "code",
   "execution_count": null,
   "id": "cc58e3ea-560c-4b85-a6ef-3cdf76d33123",
   "metadata": {
    "metadata": {}
   },
   "outputs": [],
   "source": [
    "regular_report = Report(\n",
    "    metrics=[\n",
    "        DataQualityPreset()\n",
    "    ],\n",
    "    timestamp=datetime.datetime(2024,3,28)\n",
    ")\n",
    "\n",
    "regular_report.run(reference_data=None,\n",
    "                  current_data=val_data.loc[val_data.lpep_pickup_datetime.between('2024-03-28', '2024-03-29', inclusive=\"left\")],\n",
    "                  column_mapping=column_mapping)\n",
    "\n",
    "regular_report"
   ]
  },
  {
   "cell_type": "code",
   "execution_count": 503,
   "id": "c55cf5d6-7bbb-438f-9d56-bdc8318e70e2",
   "metadata": {
    "metadata": {}
   },
   "outputs": [],
   "source": [
    "ws.add_report(project.id, regular_report)"
   ]
  },
  {
   "cell_type": "code",
   "execution_count": null,
   "id": "7938268f-f511-47f5-acfc-2c53522bcfa6",
   "metadata": {
    "metadata": {}
   },
   "outputs": [],
   "source": [
    "#configure the dashboard\n",
    "project.dashboard.add_panel(\n",
    "    DashboardPanelCounter(\n",
    "        filter=ReportFilter(metadata_values={}, tag_values=[]),\n",
    "        agg=CounterAgg.NONE,\n",
    "        title=\"NYC taxi data dashboard\"\n",
    "    )\n",
    ")\n",
    "\n",
    "project.dashboard.add_panel(\n",
    "    DashboardPanelPlot(\n",
    "        filter=ReportFilter(metadata_values={}, tag_values=[]),\n",
    "        title=\"Inference Count\",\n",
    "        values=[\n",
    "            PanelValue(\n",
    "                metric_id=\"DatasetSummaryMetric\",\n",
    "                field_path=\"current.number_of_rows\",\n",
    "                legend=\"count\"\n",
    "            ),\n",
    "        ],\n",
    "        plot_type=PlotType.BAR,\n",
    "        size=WidgetSize.HALF,\n",
    "    ),\n",
    ")\n",
    "\n",
    "project.dashboard.add_panel(\n",
    "    DashboardPanelPlot(\n",
    "        filter=ReportFilter(metadata_values={}, tag_values=[]),\n",
    "        title=\"Number of Missing Values\",\n",
    "        values=[\n",
    "            PanelValue(\n",
    "                metric_id=\"DatasetSummaryMetric\",\n",
    "                field_path=\"current.number_of_missing_values\",\n",
    "                legend=\"count\"\n",
    "            ),\n",
    "        ],\n",
    "        plot_type=PlotType.LINE,\n",
    "        size=WidgetSize.HALF,\n",
    "    ),\n",
    ")\n",
    "\n",
    "project.save()"
   ]
  },
  {
   "cell_type": "code",
   "execution_count": null,
   "id": "f2193364-124a-4585-8859-86a82c858334",
   "metadata": {
    "metadata": {},
    "scrolled": true
   },
   "outputs": [],
   "source": [
    "regular_report = Report(\n",
    "    metrics=[\n",
    "        DataQualityPreset()\n",
    "    ],\n",
    "    timestamp=datetime.datetime(2042,3,29)\n",
    ")\n",
    "\n",
    "regular_report.run(reference_data=None,\n",
    "                  current_data=val_data.loc[val_data.lpep_pickup_datetime.between('2024-03-29', '2024-03-30', inclusive=\"left\")],\n",
    "                  column_mapping=column_mapping)\n",
    "\n",
    "regular_report"
   ]
  },
  {
   "cell_type": "code",
   "execution_count": 506,
   "id": "6999cf63-9c59-4420-8163-b8c1215f3ba7",
   "metadata": {
    "metadata": {}
   },
   "outputs": [],
   "source": [
    "ws.add_report(project.id, regular_report)"
   ]
  },
  {
   "cell_type": "code",
   "execution_count": null,
   "id": "c7f04a09-6c54-4784-bd0a-c8b01f3d8ae8",
   "metadata": {},
   "outputs": [],
   "source": []
  }
 ],
 "metadata": {
  "kernelspec": {
   "display_name": "Python 3 (ipykernel)",
   "language": "python",
   "name": "python3"
  },
  "language_info": {
   "codemirror_mode": {
    "name": "ipython",
    "version": 3
   },
   "file_extension": ".py",
   "mimetype": "text/x-python",
   "name": "python",
   "nbconvert_exporter": "python",
   "pygments_lexer": "ipython3",
   "version": "3.11.4"
  }
 },
 "nbformat": 4,
 "nbformat_minor": 5
}
